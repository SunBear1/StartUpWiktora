{
 "cells": [
  {
   "cell_type": "code",
   "execution_count": 1,
   "id": "49fe5a7f",
   "metadata": {
    "_cell_guid": "d7b14f16-e381-4eeb-974c-919f228bc70b",
    "_uuid": "a8da46ad-e5cf-4f3b-ba40-c97c26e420e9",
    "collapsed": false,
    "execution": {
     "iopub.execute_input": "2024-05-13T18:25:05.714979Z",
     "iopub.status.busy": "2024-05-13T18:25:05.714533Z",
     "iopub.status.idle": "2024-05-13T18:25:06.586349Z",
     "shell.execute_reply": "2024-05-13T18:25:06.585237Z"
    },
    "jupyter": {
     "outputs_hidden": false
    },
    "papermill": {
     "duration": 0.879308,
     "end_time": "2024-05-13T18:25:06.589434",
     "exception": false,
     "start_time": "2024-05-13T18:25:05.710126",
     "status": "completed"
    },
    "tags": []
   },
   "outputs": [],
   "source": [
    "# This Python 3 environment comes with many helpful analytics libraries installed\n",
    "# It is defined by the kaggle/python Docker image: https://github.com/kaggle/docker-python\n",
    "# For example, here's several helpful packages to load\n",
    "\n",
    "import numpy as np # linear algebra\n",
    "import pandas as pd # data processing, CSV file I/O (e.g. pd.read_csv)\n",
    "\n",
    "# Input data files are available in the read-only \"../input/\" directory\n",
    "# For example, running this (by clicking run or pressing Shift+Enter) will list all files under the input directory\n",
    "\n",
    "import os\n",
    "for dirname, _, filenames in os.walk('/kaggle/input'):\n",
    "    for filename in filenames:\n",
    "        print(os.path.join(dirname, filename))\n",
    "\n",
    "# You can write up to 20GB to the current directory (/kaggle/working/) that gets preserved as output when you create a version using \"Save & Run All\" \n",
    "# You can also write temporary files to /kaggle/temp/, but they won't be saved outside of the current session"
   ]
  },
  {
   "cell_type": "code",
   "execution_count": 2,
   "id": "877191b3",
   "metadata": {
    "_cell_guid": "d66d892c-47f0-41a0-94a1-3b300080db01",
    "_uuid": "4d4f8678-64bc-4e25-bd67-d8b67d48e2fd",
    "collapsed": false,
    "execution": {
     "iopub.execute_input": "2024-05-13T18:25:06.598285Z",
     "iopub.status.busy": "2024-05-13T18:25:06.597799Z",
     "iopub.status.idle": "2024-05-13T18:25:06.603751Z",
     "shell.execute_reply": "2024-05-13T18:25:06.602572Z"
    },
    "jupyter": {
     "outputs_hidden": false
    },
    "papermill": {
     "duration": 0.01244,
     "end_time": "2024-05-13T18:25:06.606324",
     "exception": false,
     "start_time": "2024-05-13T18:25:06.593884",
     "status": "completed"
    },
    "tags": []
   },
   "outputs": [
    {
     "name": "stdout",
     "output_type": "stream",
     "text": [
      "JD Disa\n"
     ]
    }
   ],
   "source": [
    "print(\"JD Disa\")"
   ]
  },
  {
   "cell_type": "code",
   "execution_count": 3,
   "id": "1c1734aa",
   "metadata": {
    "_cell_guid": "2cba3991-76d9-4bf2-be5b-8f11a25904c9",
    "_uuid": "067d55dc-f77c-40c6-af52-a602c04acbc4",
    "collapsed": false,
    "execution": {
     "iopub.execute_input": "2024-05-13T18:25:06.612625Z",
     "iopub.status.busy": "2024-05-13T18:25:06.612233Z",
     "iopub.status.idle": "2024-05-13T18:25:09.774170Z",
     "shell.execute_reply": "2024-05-13T18:25:09.772861Z"
    },
    "jupyter": {
     "outputs_hidden": false
    },
    "papermill": {
     "duration": 3.168016,
     "end_time": "2024-05-13T18:25:09.776770",
     "exception": false,
     "start_time": "2024-05-13T18:25:06.608754",
     "status": "completed"
    },
    "tags": []
   },
   "outputs": [
    {
     "name": "stdout",
     "output_type": "stream",
     "text": [
      "False\n"
     ]
    }
   ],
   "source": [
    "import torch\n",
    "\n",
    "print(torch.cuda.is_available())"
   ]
  }
 ],
 "metadata": {
  "kaggle": {
   "accelerator": "nvidiaTeslaT4",
   "dataSources": [],
   "dockerImageVersionId": 30699,
   "isGpuEnabled": true,
   "isInternetEnabled": false,
   "language": "python",
   "sourceType": "notebook"
  },
  "kernelspec": {
   "display_name": "Python 3",
   "language": "python",
   "name": "python3"
  },
  "language_info": {
   "codemirror_mode": {
    "name": "ipython",
    "version": 3
   },
   "file_extension": ".py",
   "mimetype": "text/x-python",
   "name": "python",
   "nbconvert_exporter": "python",
   "pygments_lexer": "ipython3",
   "version": "3.10.13"
  },
  "papermill": {
   "default_parameters": {},
   "duration": 7.669614,
   "end_time": "2024-05-13T18:25:10.602657",
   "environment_variables": {},
   "exception": null,
   "input_path": "__notebook__.ipynb",
   "output_path": "__notebook__.ipynb",
   "parameters": {},
   "start_time": "2024-05-13T18:25:02.933043",
   "version": "2.5.0"
  }
 },
 "nbformat": 4,
 "nbformat_minor": 5
}
